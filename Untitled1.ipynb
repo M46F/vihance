{
 "cells": [
  {
   "cell_type": "code",
   "execution_count": null,
   "metadata": {
    "collapsed": false
   },
   "outputs": [],
   "source": [
    "!cd data && cd Scraped && cd train64_LR && dir"
   ]
  },
  {
   "cell_type": "code",
   "execution_count": 4,
   "metadata": {
    "collapsed": false
   },
   "outputs": [
    {
     "name": "stdout",
     "output_type": "stream",
     "text": [
      " Volume in drive E is Local Disk\n",
      " Volume Serial Number is EC40-65E1\n",
      "\n",
      " Directory of E:\\OneDrive\\Programming\\Jupyter\\DSA\n",
      "\n",
      "22/05/2018  09:11    <DIR>          .\n",
      "22/05/2018  09:11    <DIR>          ..\n",
      "22/05/2018  09:11    <DIR>          .ipynb_checkpoints\n",
      "22/05/2018  07:36    <DIR>          data\n",
      "14/05/2018  07:25            20.551 DSAEvaluation.ipynb\n",
      "22/05/2018  08:16            20.759 Untitled.ipynb\n",
      "22/05/2018  09:11                72 Untitled1.ipynb\n",
      "               3 File(s)         41.382 bytes\n",
      "               4 Dir(s)  2.520.149.008.384 bytes free\n"
     ]
    }
   ],
   "source": [
    "!dir"
   ]
  },
  {
   "cell_type": "code",
   "execution_count": null,
   "metadata": {
    "collapsed": true
   },
   "outputs": [],
   "source": []
  }
 ],
 "metadata": {
  "anaconda-cloud": {},
  "kernelspec": {
   "display_name": "Python [py36]",
   "language": "python",
   "name": "Python [py36]"
  },
  "language_info": {
   "codemirror_mode": {
    "name": "ipython",
    "version": 3
   },
   "file_extension": ".py",
   "mimetype": "text/x-python",
   "name": "python",
   "nbconvert_exporter": "python",
   "pygments_lexer": "ipython3",
   "version": "3.6.1"
  }
 },
 "nbformat": 4,
 "nbformat_minor": 0
}
